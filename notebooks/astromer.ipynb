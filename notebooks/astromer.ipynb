{
 "cells": [
  {
   "cell_type": "code",
   "execution_count": 1,
   "id": "5cde6e8c-5a20-45cb-af30-60fb5ef7d96b",
   "metadata": {
    "tags": []
   },
   "outputs": [],
   "source": [
    "%load_ext autoreload\n",
    "%autoreload 2"
   ]
  },
  {
   "cell_type": "code",
   "execution_count": 2,
   "id": "7ba7f94d-8f81-456e-85c2-dbd991c4e5b4",
   "metadata": {
    "tags": []
   },
   "outputs": [
    {
     "name": "stdout",
     "output_type": "stream",
     "text": [
      "\u001b[H\u001b[2J"
     ]
    }
   ],
   "source": [
    "import sys\n",
    "import os\n",
    "import pickle\n",
    "\n",
    "from IPython.display import set_matplotlib_formats\n",
    "import numpy as np\n",
    "import pandas as pd\n",
    "import seaborn as sns\n",
    "from matplotlib import pyplot as plt\n",
    "from tqdm.notebook import tqdm\n",
    "from sklearn.model_selection import train_test_split\n",
    "from ASTROMER.models import SingleBandEncoder\n",
    "from ASTROMER.preprocessing import make_pretraining\n",
    "import tensorflow as tf\n",
    "from tensorflow.keras.layers import Dense, LayerNormalization, LSTM\n",
    "from tensorflow.keras import Input, Model\n",
    "from tensorflow.keras.callbacks import EarlyStopping, TensorBoard\n",
    "from tensorflow.keras.losses import CategoricalCrossentropy\n",
    "from tensorflow.keras.optimizers import Adam\n",
    "\n",
    "sys.path.append('..')\n",
    "from env_config import DATA_PATH, PROJECT_PATH\n",
    "from utils import average_nights"
   ]
  },
  {
   "cell_type": "code",
   "execution_count": 3,
   "id": "368fcafa-a874-48d1-b435-30fa8b894e55",
   "metadata": {
    "tags": []
   },
   "outputs": [
    {
     "name": "stderr",
     "output_type": "stream",
     "text": [
      "/tmp/ipykernel_4083734/2291959376.py:4: DeprecationWarning: `set_matplotlib_formats` is deprecated since IPython 7.23, directly use `matplotlib_inline.backend_inline.set_matplotlib_formats()`\n",
      "  set_matplotlib_formats('retina')\n"
     ]
    }
   ],
   "source": [
    "%matplotlib inline\n",
    "set_matplotlib_formats('retina')\n",
    "plt.rcParams['figure.dpi'] = 100\n",
    "plt.rcParams['savefig.dpi'] = 300\n",
    "sns.set_style('ticks', {'axes.grid': False})\n",
    "pd.set_option('mode.chained_assignment', None)"
   ]
  },
  {
   "cell_type": "code",
   "execution_count": 5,
   "id": "36161fb3-fe42-4893-aac9-6eaf096a32c8",
   "metadata": {
    "tags": []
   },
   "outputs": [],
   "source": [
    "filter = 'g'"
   ]
  },
  {
   "cell_type": "markdown",
   "id": "f75ad259-32dd-4fc9-9b4f-347a37074994",
   "metadata": {},
   "source": [
    "# Prepare lightcurves"
   ]
  },
  {
   "cell_type": "code",
   "execution_count": 5,
   "id": "a53d0baa-dc55-44c5-8d44-a439285206d8",
   "metadata": {},
   "outputs": [],
   "source": [
    "# This is actually not needed, all experiments should be done on the same data,\n",
    "# hence, data with available features, to make justful comparison between RF and astromer.\n",
    "# But, final astromer model can be trained on more data."
   ]
  },
  {
   "cell_type": "code",
   "execution_count": 6,
   "id": "dbb58b66-edbb-4551-8e29-d7fdd9e9a3a1",
   "metadata": {},
   "outputs": [],
   "source": [
    "# Read ZTF x SDSS\n",
    "with open(os.path.join(DATA_PATH, 'ZTF_x_SDSS/ztf_20210401_x_specObj-dr18__singles_filter_{}'.format(filter)), 'rb') as file:\n",
    "    ztf_x_sdss = np.array(pickle.load(file))"
   ]
  },
  {
   "cell_type": "code",
   "execution_count": null,
   "id": "9afcfae8-0d98-4eb2-9244-58e7f9a83b89",
   "metadata": {},
   "outputs": [
    {
     "data": {
      "application/vnd.jupyter.widget-view+json": {
       "model_id": "e57182b25868467caae4caae113c346e",
       "version_major": 2,
       "version_minor": 0
      },
      "text/plain": [
       "  0%|          | 0/451462 [00:00<?, ?it/s]"
      ]
     },
     "metadata": {},
     "output_type": "display_data"
    }
   ],
   "source": [
    "# Create lightcurves with reduced deep drilling\n",
    "ztf_x_sdss_reduced = [average_nights(lc_dict) for lc_dict in tqdm(ztf_x_sdss)]"
   ]
  },
  {
   "cell_type": "code",
   "execution_count": null,
   "id": "316495ce-5993-47de-bb11-d265badd9bac",
   "metadata": {
    "tags": []
   },
   "outputs": [],
   "source": [
    "# Get objects with n_obs > 20\n",
    "ztf_x_sdss_reduced_obs = [lc_dict for lc_dict in tqdm(ztf_x_sdss_reduced) if len(lc_dict['mjd']) >= 20]"
   ]
  },
  {
   "cell_type": "code",
   "execution_count": 10,
   "id": "419bbf57-fa16-4f84-9677-c78559309023",
   "metadata": {},
   "outputs": [],
   "source": [
    "# Save reduced\n",
    "file_path = 'ZTF_x_SDSS/ztf_20210401_x_specObj-dr18__singles_filter_{}__lc_reduced'\n",
    "fp = file_path.format(filter)\n",
    "with open(os.path.join(DATA_PATH, fp), 'wb') as file:\n",
    "    pickle.dump(ztf_x_sdss_reduced_obs, file)"
   ]
  },
  {
   "cell_type": "markdown",
   "id": "041a94dc-dfdc-427d-846e-1a3ca6e59645",
   "metadata": {
    "toc-hr-collapsed": true
   },
   "source": [
    "# Read data"
   ]
  },
  {
   "cell_type": "code",
   "execution_count": 6,
   "id": "a4810f29-b8f1-4d27-a80e-e23dbd5a08b8",
   "metadata": {
    "tags": []
   },
   "outputs": [],
   "source": [
    "file_path = 'ZTF_x_SDSS/ztf_20210401_x_specObj-dr18__singles_filter_{}__features_lc_reduced'.format(filter)\n",
    "with open(os.path.join(DATA_PATH, file_path), 'rb') as file:\n",
    "    ztf_x_sdss_reduced = pickle.load(file)"
   ]
  },
  {
   "cell_type": "code",
   "execution_count": 7,
   "id": "0e25235b-ad01-4c57-bac7-f3139484f60e",
   "metadata": {
    "tags": []
   },
   "outputs": [
    {
     "data": {
      "application/vnd.jupyter.widget-view+json": {
       "model_id": "7d61c06b8c5c474aa08ad0635d3c4c34",
       "version_major": 2,
       "version_minor": 0
      },
      "text/plain": [
       "  0%|          | 0/321929 [00:00<?, ?it/s]"
      ]
     },
     "metadata": {},
     "output_type": "display_data"
    }
   ],
   "source": [
    "# Change shape to feed a neural network\n",
    "X = [np.array([np.array([lc_dict['mjd'][i], lc_dict['mag'][i], lc_dict['magerr'][i]], dtype='object') for i in range(len(lc_dict['mjd']))], dtype='object') for lc_dict in tqdm(ztf_x_sdss_reduced)]"
   ]
  },
  {
   "cell_type": "code",
   "execution_count": 8,
   "id": "79369bac-c143-4f7f-ae56-e430e072f768",
   "metadata": {
    "tags": []
   },
   "outputs": [],
   "source": [
    "# Read SDSS x ZTF subset with available features\n",
    "file_path = 'ZTF_x_SDSS/specObj-dr18_x_ztf_20210401__singles_filter_{}__features'\n",
    "fp = file_path.format(filter)\n",
    "with open(os.path.join(DATA_PATH, fp), 'rb') as file:\n",
    "    sdss_x_ztf_features = pickle.load(file)"
   ]
  },
  {
   "cell_type": "code",
   "execution_count": 9,
   "id": "dfdc9eac-8f38-480b-b305-ba622a473c04",
   "metadata": {
    "tags": []
   },
   "outputs": [],
   "source": [
    "class_dict = {\n",
    "    'GALAXY': 0,\n",
    "    'QSO': 1,\n",
    "    'STAR': 2,\n",
    "}\n",
    "y = sdss_x_ztf_features['CLASS'].apply(lambda x: class_dict[x]).to_list()"
   ]
  },
  {
   "cell_type": "code",
   "execution_count": 10,
   "id": "6cf778f1-6f32-4053-bfbc-d525a1929269",
   "metadata": {
    "tags": []
   },
   "outputs": [],
   "source": [
    "X_train, X_val, y_train, y_val = train_test_split(\n",
    "    X, y, test_size=0.33, random_state=42\n",
    ")"
   ]
  },
  {
   "cell_type": "code",
   "execution_count": 39,
   "id": "30f51ab1-41a3-4fe8-ac03-d3e4c0895095",
   "metadata": {
    "tags": []
   },
   "outputs": [
    {
     "data": {
      "text/plain": [
       "<matplotlib.legend.Legend at 0x7f38dfc7ca90>"
      ]
     },
     "execution_count": 39,
     "metadata": {},
     "output_type": "execute_result"
    },
    {
     "data": {
      "image/png": "[encoded data removed]",
      "text/plain": [
       "<Figure size 640x480 with 1 Axes>"
      ]
     },
     "metadata": {
      "image/png": {
       "height": 417,
       "width": 573
      }
     },
     "output_type": "display_data"
    }
   ],
   "source": [
    "# Number of observations per class\n",
    "sdss_x_ztf_features['n_obs'] = [len(lc['mjd']) for lc in ztf_x_sdss_reduced]\n",
    "\n",
    "for cls in ['GALAXY', 'QSO', 'STAR']:\n",
    "    tmp = sdss_x_ztf_features.loc[sdss_x_ztf_features['CLASS'] == cls]\n",
    "    plt.hist(tmp['n_obs'], label=cls, density=True, histtype='step')\n",
    "\n",
    "plt.legend()"
   ]
  },
  {
   "cell_type": "markdown",
   "id": "0b4178c9-6753-434e-a31a-87bc317752f4",
   "metadata": {},
   "source": [
    "# Retrain tensorflow model"
   ]
  },
  {
   "cell_type": "code",
   "execution_count": 26,
   "id": "82213496-69b6-42e6-8d1c-f066f666c1b2",
   "metadata": {
    "tags": []
   },
   "outputs": [],
   "source": [
    "def build_model(encoder, n_classes, maxlen, train_astromer=False, lr=1e-3):\n",
    "    serie  = Input(shape=(maxlen, 1), batch_size=None, name='input')\n",
    "    times  = Input(shape=(maxlen, 1), batch_size=None, name='times')\n",
    "    mask   = Input(shape=(maxlen, 1), batch_size=None, name='mask')\n",
    "\n",
    "    placeholder = {'input':serie,\n",
    "                   'mask_in':mask,\n",
    "                   'times':times}\n",
    "\n",
    "    encoder.trainable = train_astromer\n",
    "    \n",
    "    mask = 1.-placeholder['mask_in']\n",
    "    x = encoder(placeholder, training=True)\n",
    "    x = x * mask\n",
    "    x = tf.reduce_sum(x, 1)/tf.reduce_sum(mask, 1)\n",
    "\n",
    "    x = Dense(1024, activation='relu')(x)\n",
    "    x = Dense(512, activation='relu')(x)\n",
    "    x = Dense(256, activation='relu')(x)\n",
    "    x = LayerNormalization()(x)\n",
    "    x = Dense(n_classes)(x)\n",
    "    \n",
    "    classifier = Model(inputs=placeholder, outputs=x, name=\"FCATT\")\n",
    "    \n",
    "    classifier.compile(loss=CategoricalCrossentropy(from_logits=True), \n",
    "                       metrics=['accuracy'],\n",
    "                       optimizer=Adam(lr))\n",
    "    return classifier\n",
    "\n",
    "#     bool_mask = tf.logical_not(tf.cast(encoder.input['mask_in'], tf.bool))\n",
    "\n",
    "#     x = encoder(encoder.input)\n",
    "#     x = tf.reshape(x, [-1, maxlen, encoder.output.shape[-1]])\n",
    "#     x = LayerNormalization()(x)\n",
    "\n",
    "#     units = 32\n",
    "#     dropout = 0.1\n",
    "#     x = LSTM(units, return_sequences=True,\n",
    "#              dropout=dropout, name='RNN_0')(x, mask=bool_mask)\n",
    "#     x = LayerNormalization()(x)\n",
    "#     x = LSTM(units, return_sequences=True,\n",
    "#              dropout=dropout, name='RNN_1')(x, mask=bool_mask)\n",
    "#     x = LayerNormalization()(x)\n",
    "#     x = Dense(num_classes, name='FCN')(x)\n",
    "\n",
    "#     return Model(inputs=encoder.input, outputs=x, name='RNNCLF')\n",
    "\n",
    "def get_lstm_no_attention(units, num_classes, maxlen, dropout=0.5):\n",
    "    ''' LSTM + LSTM + FC'''\n",
    "\n",
    "    serie  = Input(shape=(maxlen, 1),\n",
    "                  batch_size=None,\n",
    "                  name='input')\n",
    "    times  = Input(shape=(maxlen, 1),\n",
    "                  batch_size=None,\n",
    "                  name='times')\n",
    "\n",
    "    mask   = Input(shape=(maxlen, 1),\n",
    "                  batch_size=None,\n",
    "                  name='mask')\n",
    "    length = Input(shape=(maxlen,),\n",
    "                  batch_size=None,\n",
    "                  dtype=tf.int32,\n",
    "                  name='length')\n",
    "\n",
    "    placeholder = {'input': serie,\n",
    "                   'mask_in': mask,\n",
    "                   'times': times,\n",
    "                   'length': length}\n",
    "\n",
    "    bool_mask = tf.logical_not(tf.cast(placeholder['mask_in'], tf.bool))\n",
    "\n",
    "    x = tf.concat([placeholder['times'], placeholder['input']], 2)\n",
    "\n",
    "    x = LSTM(units, return_sequences=True,\n",
    "             dropout=dropout, name='RNN_0')(x, mask=bool_mask)\n",
    "    x = LayerNormalization(axis=1)(x)\n",
    "    x = LSTM(units, return_sequences=True,\n",
    "             dropout=dropout, name='RNN_1')(x, mask=bool_mask)\n",
    "    x = LayerNormalization(axis=1)(x)\n",
    "    x = Dense(num_classes, name='FCN')(x)\n",
    "\n",
    "    return Model(inputs=placeholder, outputs=x, name='RNNCLF')"
   ]
  },
  {
   "cell_type": "code",
   "execution_count": 27,
   "id": "949f60eb-8c69-428c-871b-8fd9548b7d2c",
   "metadata": {},
   "outputs": [
    {
     "name": "stdout",
     "output_type": "stream",
     "text": [
      "[INFO] Weights already downloaded\n"
     ]
    }
   ],
   "source": [
    "astromer = SingleBandEncoder()\n",
    "astromer = astromer.from_pretraining('ztfg')\n",
    "\n",
    "# Load weights finetuned to our data\n",
    "astromer.load_weights(os.path.join(PROJECT_PATH, 'outputs/models/astromer_g'))"
   ]
  },
  {
   "cell_type": "code",
   "execution_count": 28,
   "id": "ef0e5bf8-4447-44fa-b448-811f3ed82da3",
   "metadata": {
    "scrolled": true,
    "tags": []
   },
   "outputs": [],
   "source": [
    "astromer_encoder = astromer.model.get_layer('encoder')\n",
    "\n",
    "classifier = build_model(\n",
    "    astromer_encoder, \n",
    "    len(np.unique(y)), \n",
    "    maxlen=astromer.maxlen,\n",
    "    train_astromer=True,\n",
    ")"
   ]
  },
  {
   "cell_type": "code",
   "execution_count": 29,
   "id": "23f2a1f3-92c8-4420-b4ea-266ed35a8a0d",
   "metadata": {},
   "outputs": [],
   "source": [
    "# Training params\n",
    "batch_size = 32\n",
    "epochs = 100\n",
    "early_stopping = 10"
   ]
  },
  {
   "cell_type": "code",
   "execution_count": 30,
   "id": "344449ea-b23e-4bc9-b916-ad517a897122",
   "metadata": {
    "tags": []
   },
   "outputs": [
    {
     "name": "stdout",
     "output_type": "stream",
     "text": [
      "[INFO] Loading Numpy\n",
      "[INFO] Loading Numpy\n",
      "Epoch 1/100\n"
     ]
    },
    {
     "name": "stderr",
     "output_type": "stream",
     "text": [
      "2023-08-10 13:47:07.641063: W tensorflow/core/kernels/data/cache_dataset_ops.cc:856] The calling iterator did not fully read the dataset being cached. In order to avoid unexpected truncation of the dataset, the partially cached contents of the dataset  will be discarded. This can happen if you have an input pipeline similar to `dataset.cache().take(k).repeat()`. You should use `dataset.take(k).cache().repeat()` instead.\n"
     ]
    },
    {
     "name": "stdout",
     "output_type": "stream",
     "text": [
      "      9/Unknown - 4s 63ms/step - loss: 2.4378 - accuracy: 0.4479"
     ]
    },
    {
     "ename": "KeyboardInterrupt",
     "evalue": "",
     "output_type": "error",
     "traceback": [
      "\u001b[0;31m---------------------------------------------------------------------------\u001b[0m",
      "\u001b[0;31mKeyboardInterrupt\u001b[0m                         Traceback (most recent call last)",
      "Cell \u001b[0;32mIn[30], line 11\u001b[0m\n\u001b[1;32m      1\u001b[0m train_batches \u001b[38;5;241m=\u001b[39m make_pretraining(\n\u001b[1;32m      2\u001b[0m     X_train, labels\u001b[38;5;241m=\u001b[39my_train, n_classes\u001b[38;5;241m=\u001b[39m\u001b[38;5;241m3\u001b[39m, batch_size\u001b[38;5;241m=\u001b[39mbatch_size, shuffle\u001b[38;5;241m=\u001b[39m\u001b[38;5;28;01mTrue\u001b[39;00m,\n\u001b[1;32m      3\u001b[0m     sampling\u001b[38;5;241m=\u001b[39m\u001b[38;5;28;01mFalse\u001b[39;00m, max_obs\u001b[38;5;241m=\u001b[39m\u001b[38;5;241m200\u001b[39m, msk_frac\u001b[38;5;241m=\u001b[39m\u001b[38;5;241m0.\u001b[39m, rnd_frac\u001b[38;5;241m=\u001b[39m\u001b[38;5;241m0.\u001b[39m, same_frac\u001b[38;5;241m=\u001b[39m\u001b[38;5;241m0.\u001b[39m, repeat\u001b[38;5;241m=\u001b[39m\u001b[38;5;241m1\u001b[39m,\n\u001b[1;32m      4\u001b[0m )\n\u001b[1;32m      6\u001b[0m validation_batches \u001b[38;5;241m=\u001b[39m make_pretraining(\n\u001b[1;32m      7\u001b[0m     X_val, labels\u001b[38;5;241m=\u001b[39my_val, n_classes\u001b[38;5;241m=\u001b[39m\u001b[38;5;241m3\u001b[39m, batch_size\u001b[38;5;241m=\u001b[39mbatch_size, shuffle\u001b[38;5;241m=\u001b[39m\u001b[38;5;28;01mTrue\u001b[39;00m,\n\u001b[1;32m      8\u001b[0m     sampling\u001b[38;5;241m=\u001b[39m\u001b[38;5;28;01mFalse\u001b[39;00m, max_obs\u001b[38;5;241m=\u001b[39m\u001b[38;5;241m200\u001b[39m, msk_frac\u001b[38;5;241m=\u001b[39m\u001b[38;5;241m0.\u001b[39m, rnd_frac\u001b[38;5;241m=\u001b[39m\u001b[38;5;241m0.\u001b[39m, same_frac\u001b[38;5;241m=\u001b[39m\u001b[38;5;241m0.\u001b[39m, repeat\u001b[38;5;241m=\u001b[39m\u001b[38;5;241m1\u001b[39m,\n\u001b[1;32m      9\u001b[0m )\n\u001b[0;32m---> 11\u001b[0m history \u001b[38;5;241m=\u001b[39m \u001b[43mclassifier\u001b[49m\u001b[38;5;241;43m.\u001b[39;49m\u001b[43mfit\u001b[49m\u001b[43m(\u001b[49m\n\u001b[1;32m     12\u001b[0m \u001b[43m    \u001b[49m\u001b[43mtrain_batches\u001b[49m\u001b[43m,\u001b[49m\u001b[43m \u001b[49m\u001b[43mvalidation_data\u001b[49m\u001b[38;5;241;43m=\u001b[39;49m\u001b[43mvalidation_batches\u001b[49m\u001b[43m,\u001b[49m\u001b[43m \u001b[49m\u001b[43mepochs\u001b[49m\u001b[38;5;241;43m=\u001b[39;49m\u001b[43mepochs\u001b[49m\u001b[43m,\u001b[49m\u001b[43m \u001b[49m\n\u001b[1;32m     13\u001b[0m \u001b[43m    \u001b[49m\u001b[43mcallbacks\u001b[49m\u001b[38;5;241;43m=\u001b[39;49m\u001b[43m[\u001b[49m\u001b[43mEarlyStopping\u001b[49m\u001b[43m(\u001b[49m\u001b[43mpatience\u001b[49m\u001b[38;5;241;43m=\u001b[39;49m\u001b[43mearly_stopping\u001b[49m\u001b[43m)\u001b[49m\u001b[43m]\u001b[49m\u001b[43m,\u001b[49m\n\u001b[1;32m     14\u001b[0m \u001b[43m    \u001b[49m\u001b[38;5;66;43;03m# steps_per_epoch=len(X_train) // batch_size,\u001b[39;49;00m\n\u001b[1;32m     15\u001b[0m \u001b[43m    \u001b[49m\u001b[38;5;66;43;03m# validation_steps=len(X_val) // batch_size,\u001b[39;49;00m\n\u001b[1;32m     16\u001b[0m \u001b[43m)\u001b[49m\n",
      "File \u001b[0;32m~/tools/anaconda3/envs/py39-ztf/lib/python3.9/site-packages/keras/utils/traceback_utils.py:64\u001b[0m, in \u001b[0;36mfilter_traceback.<locals>.error_handler\u001b[0;34m(*args, **kwargs)\u001b[0m\n\u001b[1;32m     62\u001b[0m filtered_tb \u001b[38;5;241m=\u001b[39m \u001b[38;5;28;01mNone\u001b[39;00m\n\u001b[1;32m     63\u001b[0m \u001b[38;5;28;01mtry\u001b[39;00m:\n\u001b[0;32m---> 64\u001b[0m   \u001b[38;5;28;01mreturn\u001b[39;00m \u001b[43mfn\u001b[49m\u001b[43m(\u001b[49m\u001b[38;5;241;43m*\u001b[39;49m\u001b[43margs\u001b[49m\u001b[43m,\u001b[49m\u001b[43m \u001b[49m\u001b[38;5;241;43m*\u001b[39;49m\u001b[38;5;241;43m*\u001b[39;49m\u001b[43mkwargs\u001b[49m\u001b[43m)\u001b[49m\n\u001b[1;32m     65\u001b[0m \u001b[38;5;28;01mexcept\u001b[39;00m \u001b[38;5;167;01mException\u001b[39;00m \u001b[38;5;28;01mas\u001b[39;00m e:  \u001b[38;5;66;03m# pylint: disable=broad-except\u001b[39;00m\n\u001b[1;32m     66\u001b[0m   filtered_tb \u001b[38;5;241m=\u001b[39m _process_traceback_frames(e\u001b[38;5;241m.\u001b[39m__traceback__)\n",
      "File \u001b[0;32m~/tools/anaconda3/envs/py39-ztf/lib/python3.9/site-packages/keras/engine/training.py:1414\u001b[0m, in \u001b[0;36mModel.fit\u001b[0;34m(self, x, y, batch_size, epochs, verbose, callbacks, validation_split, validation_data, shuffle, class_weight, sample_weight, initial_epoch, steps_per_epoch, validation_steps, validation_batch_size, validation_freq, max_queue_size, workers, use_multiprocessing)\u001b[0m\n\u001b[1;32m   1412\u001b[0m logs \u001b[38;5;241m=\u001b[39m tmp_logs  \u001b[38;5;66;03m# No error, now safe to assign to logs.\u001b[39;00m\n\u001b[1;32m   1413\u001b[0m end_step \u001b[38;5;241m=\u001b[39m step \u001b[38;5;241m+\u001b[39m data_handler\u001b[38;5;241m.\u001b[39mstep_increment\n\u001b[0;32m-> 1414\u001b[0m \u001b[43mcallbacks\u001b[49m\u001b[38;5;241;43m.\u001b[39;49m\u001b[43mon_train_batch_end\u001b[49m\u001b[43m(\u001b[49m\u001b[43mend_step\u001b[49m\u001b[43m,\u001b[49m\u001b[43m \u001b[49m\u001b[43mlogs\u001b[49m\u001b[43m)\u001b[49m\n\u001b[1;32m   1415\u001b[0m \u001b[38;5;28;01mif\u001b[39;00m \u001b[38;5;28mself\u001b[39m\u001b[38;5;241m.\u001b[39mstop_training:\n\u001b[1;32m   1416\u001b[0m   \u001b[38;5;28;01mbreak\u001b[39;00m\n",
      "File \u001b[0;32m~/tools/anaconda3/envs/py39-ztf/lib/python3.9/site-packages/keras/callbacks.py:438\u001b[0m, in \u001b[0;36mCallbackList.on_train_batch_end\u001b[0;34m(self, batch, logs)\u001b[0m\n\u001b[1;32m    431\u001b[0m \u001b[38;5;250m\u001b[39m\u001b[38;5;124;03m\"\"\"Calls the `on_train_batch_end` methods of its callbacks.\u001b[39;00m\n\u001b[1;32m    432\u001b[0m \n\u001b[1;32m    433\u001b[0m \u001b[38;5;124;03mArgs:\u001b[39;00m\n\u001b[1;32m    434\u001b[0m \u001b[38;5;124;03m    batch: Integer, index of batch within the current epoch.\u001b[39;00m\n\u001b[1;32m    435\u001b[0m \u001b[38;5;124;03m    logs: Dict. Aggregated metric results up until this batch.\u001b[39;00m\n\u001b[1;32m    436\u001b[0m \u001b[38;5;124;03m\"\"\"\u001b[39;00m\n\u001b[1;32m    437\u001b[0m \u001b[38;5;28;01mif\u001b[39;00m \u001b[38;5;28mself\u001b[39m\u001b[38;5;241m.\u001b[39m_should_call_train_batch_hooks:\n\u001b[0;32m--> 438\u001b[0m   \u001b[38;5;28;43mself\u001b[39;49m\u001b[38;5;241;43m.\u001b[39;49m\u001b[43m_call_batch_hook\u001b[49m\u001b[43m(\u001b[49m\u001b[43mModeKeys\u001b[49m\u001b[38;5;241;43m.\u001b[39;49m\u001b[43mTRAIN\u001b[49m\u001b[43m,\u001b[49m\u001b[43m \u001b[49m\u001b[38;5;124;43m'\u001b[39;49m\u001b[38;5;124;43mend\u001b[39;49m\u001b[38;5;124;43m'\u001b[39;49m\u001b[43m,\u001b[49m\u001b[43m \u001b[49m\u001b[43mbatch\u001b[49m\u001b[43m,\u001b[49m\u001b[43m \u001b[49m\u001b[43mlogs\u001b[49m\u001b[38;5;241;43m=\u001b[39;49m\u001b[43mlogs\u001b[49m\u001b[43m)\u001b[49m\n",
      "File \u001b[0;32m~/tools/anaconda3/envs/py39-ztf/lib/python3.9/site-packages/keras/callbacks.py:297\u001b[0m, in \u001b[0;36mCallbackList._call_batch_hook\u001b[0;34m(self, mode, hook, batch, logs)\u001b[0m\n\u001b[1;32m    295\u001b[0m   \u001b[38;5;28mself\u001b[39m\u001b[38;5;241m.\u001b[39m_call_batch_begin_hook(mode, batch, logs)\n\u001b[1;32m    296\u001b[0m \u001b[38;5;28;01melif\u001b[39;00m hook \u001b[38;5;241m==\u001b[39m \u001b[38;5;124m'\u001b[39m\u001b[38;5;124mend\u001b[39m\u001b[38;5;124m'\u001b[39m:\n\u001b[0;32m--> 297\u001b[0m   \u001b[38;5;28;43mself\u001b[39;49m\u001b[38;5;241;43m.\u001b[39;49m\u001b[43m_call_batch_end_hook\u001b[49m\u001b[43m(\u001b[49m\u001b[43mmode\u001b[49m\u001b[43m,\u001b[49m\u001b[43m \u001b[49m\u001b[43mbatch\u001b[49m\u001b[43m,\u001b[49m\u001b[43m \u001b[49m\u001b[43mlogs\u001b[49m\u001b[43m)\u001b[49m\n\u001b[1;32m    298\u001b[0m \u001b[38;5;28;01melse\u001b[39;00m:\n\u001b[1;32m    299\u001b[0m   \u001b[38;5;28;01mraise\u001b[39;00m \u001b[38;5;167;01mValueError\u001b[39;00m(\n\u001b[1;32m    300\u001b[0m       \u001b[38;5;124mf\u001b[39m\u001b[38;5;124m'\u001b[39m\u001b[38;5;124mUnrecognized hook: \u001b[39m\u001b[38;5;132;01m{\u001b[39;00mhook\u001b[38;5;132;01m}\u001b[39;00m\u001b[38;5;124m. Expected values are [\u001b[39m\u001b[38;5;124m\"\u001b[39m\u001b[38;5;124mbegin\u001b[39m\u001b[38;5;124m\"\u001b[39m\u001b[38;5;124m, \u001b[39m\u001b[38;5;124m\"\u001b[39m\u001b[38;5;124mend\u001b[39m\u001b[38;5;124m\"\u001b[39m\u001b[38;5;124m]\u001b[39m\u001b[38;5;124m'\u001b[39m)\n",
      "File \u001b[0;32m~/tools/anaconda3/envs/py39-ztf/lib/python3.9/site-packages/keras/callbacks.py:318\u001b[0m, in \u001b[0;36mCallbackList._call_batch_end_hook\u001b[0;34m(self, mode, batch, logs)\u001b[0m\n\u001b[1;32m    315\u001b[0m   batch_time \u001b[38;5;241m=\u001b[39m time\u001b[38;5;241m.\u001b[39mtime() \u001b[38;5;241m-\u001b[39m \u001b[38;5;28mself\u001b[39m\u001b[38;5;241m.\u001b[39m_batch_start_time\n\u001b[1;32m    316\u001b[0m   \u001b[38;5;28mself\u001b[39m\u001b[38;5;241m.\u001b[39m_batch_times\u001b[38;5;241m.\u001b[39mappend(batch_time)\n\u001b[0;32m--> 318\u001b[0m \u001b[38;5;28;43mself\u001b[39;49m\u001b[38;5;241;43m.\u001b[39;49m\u001b[43m_call_batch_hook_helper\u001b[49m\u001b[43m(\u001b[49m\u001b[43mhook_name\u001b[49m\u001b[43m,\u001b[49m\u001b[43m \u001b[49m\u001b[43mbatch\u001b[49m\u001b[43m,\u001b[49m\u001b[43m \u001b[49m\u001b[43mlogs\u001b[49m\u001b[43m)\u001b[49m\n\u001b[1;32m    320\u001b[0m \u001b[38;5;28;01mif\u001b[39;00m \u001b[38;5;28mlen\u001b[39m(\u001b[38;5;28mself\u001b[39m\u001b[38;5;241m.\u001b[39m_batch_times) \u001b[38;5;241m>\u001b[39m\u001b[38;5;241m=\u001b[39m \u001b[38;5;28mself\u001b[39m\u001b[38;5;241m.\u001b[39m_num_batches_for_timing_check:\n\u001b[1;32m    321\u001b[0m   end_hook_name \u001b[38;5;241m=\u001b[39m hook_name\n",
      "File \u001b[0;32m~/tools/anaconda3/envs/py39-ztf/lib/python3.9/site-packages/keras/callbacks.py:356\u001b[0m, in \u001b[0;36mCallbackList._call_batch_hook_helper\u001b[0;34m(self, hook_name, batch, logs)\u001b[0m\n\u001b[1;32m    354\u001b[0m \u001b[38;5;28;01mfor\u001b[39;00m callback \u001b[38;5;129;01min\u001b[39;00m \u001b[38;5;28mself\u001b[39m\u001b[38;5;241m.\u001b[39mcallbacks:\n\u001b[1;32m    355\u001b[0m   hook \u001b[38;5;241m=\u001b[39m \u001b[38;5;28mgetattr\u001b[39m(callback, hook_name)\n\u001b[0;32m--> 356\u001b[0m   \u001b[43mhook\u001b[49m\u001b[43m(\u001b[49m\u001b[43mbatch\u001b[49m\u001b[43m,\u001b[49m\u001b[43m \u001b[49m\u001b[43mlogs\u001b[49m\u001b[43m)\u001b[49m\n\u001b[1;32m    358\u001b[0m \u001b[38;5;28;01mif\u001b[39;00m \u001b[38;5;28mself\u001b[39m\u001b[38;5;241m.\u001b[39m_check_timing:\n\u001b[1;32m    359\u001b[0m   \u001b[38;5;28;01mif\u001b[39;00m hook_name \u001b[38;5;129;01mnot\u001b[39;00m \u001b[38;5;129;01min\u001b[39;00m \u001b[38;5;28mself\u001b[39m\u001b[38;5;241m.\u001b[39m_hook_times:\n",
      "File \u001b[0;32m~/tools/anaconda3/envs/py39-ztf/lib/python3.9/site-packages/keras/callbacks.py:1034\u001b[0m, in \u001b[0;36mProgbarLogger.on_train_batch_end\u001b[0;34m(self, batch, logs)\u001b[0m\n\u001b[1;32m   1033\u001b[0m \u001b[38;5;28;01mdef\u001b[39;00m \u001b[38;5;21mon_train_batch_end\u001b[39m(\u001b[38;5;28mself\u001b[39m, batch, logs\u001b[38;5;241m=\u001b[39m\u001b[38;5;28;01mNone\u001b[39;00m):\n\u001b[0;32m-> 1034\u001b[0m   \u001b[38;5;28;43mself\u001b[39;49m\u001b[38;5;241;43m.\u001b[39;49m\u001b[43m_batch_update_progbar\u001b[49m\u001b[43m(\u001b[49m\u001b[43mbatch\u001b[49m\u001b[43m,\u001b[49m\u001b[43m \u001b[49m\u001b[43mlogs\u001b[49m\u001b[43m)\u001b[49m\n",
      "File \u001b[0;32m~/tools/anaconda3/envs/py39-ztf/lib/python3.9/site-packages/keras/callbacks.py:1107\u001b[0m, in \u001b[0;36mProgbarLogger._batch_update_progbar\u001b[0;34m(self, batch, logs)\u001b[0m\n\u001b[1;32m   1104\u001b[0m \u001b[38;5;28;01mif\u001b[39;00m \u001b[38;5;28mself\u001b[39m\u001b[38;5;241m.\u001b[39mverbose \u001b[38;5;241m==\u001b[39m \u001b[38;5;241m1\u001b[39m:\n\u001b[1;32m   1105\u001b[0m   \u001b[38;5;66;03m# Only block async when verbose = 1.\u001b[39;00m\n\u001b[1;32m   1106\u001b[0m   logs \u001b[38;5;241m=\u001b[39m tf_utils\u001b[38;5;241m.\u001b[39msync_to_numpy_or_python_type(logs)\n\u001b[0;32m-> 1107\u001b[0m   \u001b[38;5;28;43mself\u001b[39;49m\u001b[38;5;241;43m.\u001b[39;49m\u001b[43mprogbar\u001b[49m\u001b[38;5;241;43m.\u001b[39;49m\u001b[43mupdate\u001b[49m\u001b[43m(\u001b[49m\u001b[38;5;28;43mself\u001b[39;49m\u001b[38;5;241;43m.\u001b[39;49m\u001b[43mseen\u001b[49m\u001b[43m,\u001b[49m\u001b[43m \u001b[49m\u001b[38;5;28;43mlist\u001b[39;49m\u001b[43m(\u001b[49m\u001b[43mlogs\u001b[49m\u001b[38;5;241;43m.\u001b[39;49m\u001b[43mitems\u001b[49m\u001b[43m(\u001b[49m\u001b[43m)\u001b[49m\u001b[43m)\u001b[49m\u001b[43m,\u001b[49m\u001b[43m \u001b[49m\u001b[43mfinalize\u001b[49m\u001b[38;5;241;43m=\u001b[39;49m\u001b[38;5;28;43;01mFalse\u001b[39;49;00m\u001b[43m)\u001b[49m\n",
      "File \u001b[0;32m~/tools/anaconda3/envs/py39-ztf/lib/python3.9/site-packages/keras/utils/generic_utils.py:936\u001b[0m, in \u001b[0;36mProgbar.update\u001b[0;34m(self, current, values, finalize)\u001b[0m\n\u001b[1;32m    934\u001b[0m   bar \u001b[38;5;241m+\u001b[39m\u001b[38;5;241m=\u001b[39m \u001b[38;5;124m'\u001b[39m\u001b[38;5;124m]\u001b[39m\u001b[38;5;124m'\u001b[39m\n\u001b[1;32m    935\u001b[0m \u001b[38;5;28;01melse\u001b[39;00m:\n\u001b[0;32m--> 936\u001b[0m   bar \u001b[38;5;241m=\u001b[39m \u001b[38;5;124;43m'\u001b[39;49m\u001b[38;5;132;43;01m%7d\u001b[39;49;00m\u001b[38;5;124;43m/Unknown\u001b[39;49m\u001b[38;5;124;43m'\u001b[39;49m\u001b[43m \u001b[49m\u001b[38;5;241;43m%\u001b[39;49m\u001b[43m \u001b[49m\u001b[43mcurrent\u001b[49m\n\u001b[1;32m    938\u001b[0m \u001b[38;5;28mself\u001b[39m\u001b[38;5;241m.\u001b[39m_total_width \u001b[38;5;241m=\u001b[39m \u001b[38;5;28mlen\u001b[39m(bar)\n\u001b[1;32m    939\u001b[0m message \u001b[38;5;241m+\u001b[39m\u001b[38;5;241m=\u001b[39m bar\n",
      "\u001b[0;31mKeyboardInterrupt\u001b[0m: "
     ]
    }
   ],
   "source": [
    "train_batches = make_pretraining(\n",
    "    X_train, labels=y_train, n_classes=3, batch_size=batch_size, shuffle=True,\n",
    "    sampling=False, max_obs=200, msk_frac=0., rnd_frac=0., same_frac=0., repeat=1,\n",
    ")\n",
    "\n",
    "validation_batches = make_pretraining(\n",
    "    X_val, labels=y_val, n_classes=3, batch_size=batch_size, shuffle=True,\n",
    "    sampling=False, max_obs=200, msk_frac=0., rnd_frac=0., same_frac=0., repeat=1,\n",
    ")\n",
    "\n",
    "history = classifier.fit(\n",
    "    train_batches, validation_data=validation_batches, epochs=epochs, \n",
    "    callbacks=[EarlyStopping(patience=early_stopping)],\n",
    "    # steps_per_epoch=len(X_train) // batch_size,\n",
    "    # validation_steps=len(X_val) // batch_size,\n",
    ")"
   ]
  },
  {
   "cell_type": "code",
   "execution_count": null,
   "id": "de387baa-580a-44fa-8d81-65fa9ee64236",
   "metadata": {},
   "outputs": [],
   "source": []
  },
  {
   "cell_type": "code",
   "execution_count": null,
   "id": "e9aa81e0",
   "metadata": {
    "tags": []
   },
   "outputs": [],
   "source": [
    "y_pred = classifier.predict(validation_batches)\n",
    "y_pred = np.argmax(y_pred, 1)"
   ]
  },
  {
   "cell_type": "code",
   "execution_count": null,
   "id": "b577d87f",
   "metadata": {
    "tags": []
   },
   "outputs": [],
   "source": [
    "# y_test = np.argmax(y_test, 1)\n",
    "y_test = np.concatenate([np.argmax(y, 1) for _, y in validation_batches])"
   ]
  },
  {
   "cell_type": "code",
   "execution_count": null,
   "id": "f5ad5fdf-2a0f-4723-939b-37d0c2def105",
   "metadata": {},
   "outputs": [],
   "source": []
  }
 ],
 "metadata": {
  "kernelspec": {
   "display_name": "Python 3 (ipykernel)",
   "language": "python",
   "name": "python3"
  },
  "language_info": {
   "codemirror_mode": {
    "name": "ipython",
    "version": 3
   },
   "file_extension": ".py",
   "mimetype": "text/x-python",
   "name": "python",
   "nbconvert_exporter": "python",
   "pygments_lexer": "ipython3",
   "version": "3.9.16"
  }
 },
 "nbformat": 4,
 "nbformat_minor": 5
}
