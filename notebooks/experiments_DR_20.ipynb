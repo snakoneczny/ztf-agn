{
 "cells": [
  {
   "cell_type": "code",
   "execution_count": 1,
   "id": "bd1c2b81-47d5-4ce9-a8ca-5c681f67ed0c",
   "metadata": {
    "tags": []
   },
   "outputs": [],
   "source": [
    "%load_ext autoreload\n",
    "%autoreload 2"
   ]
  },
  {
   "cell_type": "code",
   "execution_count": 13,
   "id": "a7e874be-4c4a-4bc4-a7da-7e1e7a114178",
   "metadata": {
    "tags": []
   },
   "outputs": [],
   "source": [
    "import sys\n",
    "import os\n",
    "import pickle\n",
    "import random\n",
    "import gc\n",
    "import json\n",
    "\n",
    "import numpy as np\n",
    "import pandas as pd\n",
    "import seaborn as sns\n",
    "from matplotlib import pyplot as plt\n",
    "from tqdm.notebook import tqdm\n",
    "from ASTROMER.models import SingleBandEncoder\n",
    "from ASTROMER.preprocessing import make_pretraining\n",
    "from sklearn.metrics import accuracy_score, f1_score\n",
    "\n",
    "sys.path.append('..')\n",
    "from env_config import DATA_PATH, PROJECT_PATH\n",
    "from ml import get_train_data, get_train_matrices, run_experiments\n",
    "from ztf import ZTF_DATES, ZTF_LAST_DATES\n",
    "from astromer import build_model\n",
    "from features import add_colors\n",
    "from light_curves import limit_date, preprocess_ztf_light_curves, add_lc_stats\n",
    "from report import print_summary_table"
   ]
  },
  {
   "cell_type": "code",
   "execution_count": 3,
   "id": "46714549-f8b3-4670-9b1c-5e8d3ab65890",
   "metadata": {
    "tags": []
   },
   "outputs": [
    {
     "name": "stderr",
     "output_type": "stream",
     "text": [
      "/tmp/ipykernel_883667/781861970.py:2: DeprecationWarning: `set_matplotlib_formats` is deprecated since IPython 7.23, directly use `matplotlib_inline.backend_inline.set_matplotlib_formats()`\n",
      "  set_matplotlib_formats('retina')\n"
     ]
    }
   ],
   "source": [
    "from IPython.display import set_matplotlib_formats\n",
    "set_matplotlib_formats('retina')\n",
    "plt.rcParams['savefig.dpi'] = 300\n",
    "plt.rcParams['figure.dpi'] = 100\n",
    "sns.set_style('ticks', {'axes.grid': False})\n",
    "pd.set_option('mode.chained_assignment', None)\n",
    "%matplotlib inline"
   ]
  },
  {
   "cell_type": "code",
   "execution_count": 4,
   "id": "f5400fc4-2350-4630-8f4e-a0422cbef5a0",
   "metadata": {
    "tags": []
   },
   "outputs": [],
   "source": [
    "ztf_date = ZTF_DATES['DR 20']\n",
    "filters = ['g']"
   ]
  },
  {
   "cell_type": "markdown",
   "id": "b8d46e45-2c53-41e7-9f96-47477d041c49",
   "metadata": {
    "tags": []
   },
   "source": [
    "# Read data"
   ]
  },
  {
   "cell_type": "code",
   "execution_count": 5,
   "id": "2ac66344-9b0b-46b1-be81-63853492ae90",
   "metadata": {
    "tags": []
   },
   "outputs": [],
   "source": [
    "# Read the train data\n",
    "data = {}\n",
    "for filter in filters:\n",
    "    _, data[filter] = \\\n",
    "        get_train_data(ztf_date=ztf_date, filter=filter, return_light_curves=False)"
   ]
  },
  {
   "cell_type": "code",
   "execution_count": 6,
   "id": "3fc1927b-aa4a-4cc1-9bd1-2773cc33e144",
   "metadata": {
    "tags": []
   },
   "outputs": [
    {
     "data": {
      "application/vnd.jupyter.widget-view+json": {
       "model_id": "6ea66e29646347d9b4cc75d6386c32dd",
       "version_major": 2,
       "version_minor": 0
      },
      "text/plain": [
       "Adding light curve statistics:   0%|          | 0/2588221 [00:00<?, ?it/s]"
      ]
     },
     "metadata": {},
     "output_type": "display_data"
    }
   ],
   "source": [
    "# Add lightcurve related information to the dataframes\n",
    "for filter in filters:\n",
    "    ztf_x_sdss[filter] = add_lc_stats(ztf_x_sdss[filter])"
   ]
  },
  {
   "cell_type": "code",
   "execution_count": 12,
   "id": "2eff31bf-2d5a-4969-9a1c-64bfff8b56b7",
   "metadata": {
    "tags": []
   },
   "outputs": [
    {
     "data": {
      "application/vnd.jupyter.widget-view+json": {
       "model_id": "bd01139f83e240d59bbb971bb651b7b1",
       "version_major": 2,
       "version_minor": 0
      },
      "text/plain": [
       "  0%|          | 0/8 [00:00<?, ?it/s]"
      ]
     },
     "metadata": {},
     "output_type": "display_data"
    }
   ],
   "source": [
    "for filter in filters:\n",
    "    for col in tqdm(['mag median', 'mag err mean', 'n obs', 'timespan', 'cadence mean', 'cadence median', 'cadence plus sigma', 'cadence minus sigma']):\n",
    "        sdss_x_ztf[filter][col] = [lc_dict[col] for lc_dict in ztf_x_sdss[filter]]"
   ]
  },
  {
   "cell_type": "code",
   "execution_count": 6,
   "id": "4448e926-8de8-4130-ab8b-8976fc6ee7ca",
   "metadata": {
    "scrolled": true,
    "tags": []
   },
   "outputs": [],
   "source": [
    "# Get PS and WISE colors\n",
    "for filter in filters:\n",
    "    data[filter], features_dict = add_colors(data[filter])"
   ]
  },
  {
   "cell_type": "markdown",
   "id": "d86302f8-af71-491a-a1a8-487568dae88c",
   "metadata": {},
   "source": [
    "# Run experiments"
   ]
  },
  {
   "cell_type": "code",
   "execution_count": 7,
   "id": "b0d9c23b-ee20-4dd7-b6f5-b36ec235a2c4",
   "metadata": {
    "scrolled": true,
    "tags": []
   },
   "outputs": [
    {
     "data": {
      "application/vnd.jupyter.widget-view+json": {
       "model_id": "6035f91f81634d34a561270c40c28338",
       "version_major": 2,
       "version_minor": 0
      },
      "text/plain": [
       "  0%|          | 0/1 [00:00<?, ?it/s]"
      ]
     },
     "metadata": {},
     "output_type": "display_data"
    },
    {
     "data": {
      "application/vnd.jupyter.widget-view+json": {
       "model_id": "042308b7036448aaacb0460279d8374e",
       "version_major": 2,
       "version_minor": 0
      },
      "text/plain": [
       "  0%|          | 0/3 [00:00<?, ?it/s]"
      ]
     },
     "metadata": {},
     "output_type": "display_data"
    },
    {
     "name": "stdout",
     "output_type": "stream",
     "text": [
      "Preds saved to: /home/sjnakoneczny/workspace/ztf-agn/outputs/preds/ZTF_20240117/g-band__ZTF_PS__RF__test.csv\n",
      "Feature importances saved to: /home/sjnakoneczny/workspace/ztf-agn/outputs/feature_importance/ZTF_20240117/g-band__ZTF_PS__RF.json\n"
     ]
    }
   ],
   "source": [
    "feature_compositions = [\n",
    "    # Baseline\n",
    "    # ['AstrmClf'],\n",
    "    # Cross match comparisons\n",
    "    ['AstrmClf', 'PS'],\n",
    "    # ['AstrmClf', 'WISE'],\n",
    "    # ['AstrmClf', 'GAIA'],\n",
    "    # Road to the best ensemble classification\n",
    "    # ['AstrmClf', 'PS', 'WISE'],\n",
    "    # ['AstrmClf', 'PS', 'GAIA'],\n",
    "    # ['AstrmClf', 'PS', 'WISE', 'GAIA'],\n",
    "]\n",
    "\n",
    "for filter in filters:\n",
    "    for feature_labels in tqdm(feature_compositions):\n",
    "        data_labels = [label for label in feature_labels if label != 'AstrmClf']\n",
    "        if 'ZTF' not in data_labels:\n",
    "            data_labels = ['ZTF'] + data_labels\n",
    "        data_label = '_'.join(data_labels)\n",
    "\n",
    "        # Run the expeirments for given data composition and almost all feature combinations\n",
    "        preds, classifiers = run_experiments(\n",
    "            feature_labels, data[filter], features_dict, filter, ztf_date,\n",
    "        )\n",
    "\n",
    "        # Save results\n",
    "        file_name = '{}-band__{}__RF'.format(filter, data_label)\n",
    "        file_path = os.path.join(PROJECT_PATH, 'outputs/preds/ZTF_{}'.format(ztf_date), file_name + '__test.csv')\n",
    "        preds.to_csv(file_path, index=False)\n",
    "        print('Preds saved to: {}'.format(file_path))\n",
    "\n",
    "        # Create dict like structure for features\n",
    "        feature_importances = {}\n",
    "\n",
    "        # Iterate classifiers\n",
    "        for key, classifier in classifiers.items():\n",
    "            feature_labels = key.split(' + ')\n",
    "            feature_importances[key] = {\n",
    "                'features': np.concatenate([features_dict[feature_label] for feature_label in feature_labels]).tolist(),\n",
    "                'importances': classifier.feature_importances_.tolist(),\n",
    "            }\n",
    "\n",
    "        # Save feature importances\n",
    "        file_path = os.path.join(PROJECT_PATH, 'outputs/feature_importance/ZTF_{}'.format(ztf_date), file_name + '.json')\n",
    "        out_file = open(file_path, 'w')\n",
    "        json.dump(feature_importances, out_file, indent=4)\n",
    "        out_file.close()\n",
    "        print('Feature importances saved to: {}'.format(file_path))"
   ]
  },
  {
   "cell_type": "markdown",
   "id": "132075a4-d414-4160-8a63-150b177b253c",
   "metadata": {},
   "source": [
    "# Load results"
   ]
  },
  {
   "cell_type": "code",
   "execution_count": 8,
   "id": "82dd1cea-3240-4768-9538-86792b4f1c40",
   "metadata": {
    "scrolled": true,
    "tags": []
   },
   "outputs": [
    {
     "name": "stdout",
     "output_type": "stream",
     "text": [
      "Loaded results: /home/sjnakoneczny/workspace/ztf-agn/outputs/preds/ZTF_20240117/g-band__ZTF_PS__RF__test.csv\n",
      "Loaded feature importances: /home/sjnakoneczny/workspace/ztf-agn/outputs/feature_importance/ZTF_20240117/g-band__ZTF_PS__RF.json\n"
     ]
    }
   ],
   "source": [
    "# Define data compositions\n",
    "data_compositions = [\n",
    "    # ['ZTF'],\n",
    "    ['ZTF', 'PS'],\n",
    "#     ['ZTF', 'WISE'],\n",
    "#     ['ZTF', 'GAIA'],\n",
    "#     ['ZTF', 'PS', 'WISE'],\n",
    "#     ['ZTF', 'PS', 'GAIA'],\n",
    "#     ['ZTF', 'PS', 'WISE', 'GAIA'],\n",
    "]\n",
    "\n",
    "# Resulting data structures\n",
    "results_dict = {}\n",
    "feature_importance_dict = {}\n",
    "\n",
    "for filter in filters:\n",
    "    results_dict[filter] = {}\n",
    "    feature_importance_dict[filter] = {}\n",
    "\n",
    "    for data_composition in data_compositions:\n",
    "        data_label = '_'.join(data_composition)\n",
    "\n",
    "        # Read predictions\n",
    "        file_name = '{}-band__{}__RF'.format(filter, data_label)\n",
    "        file_path = os.path.join(PROJECT_PATH, 'outputs/preds/ZTF_{}'.format(ztf_date), file_name + '__test.csv')\n",
    "        results_dict[filter][data_label] = pd.read_csv(file_path)\n",
    "        print('Loaded results: {}'.format(file_path))\n",
    "\n",
    "        # Read feature importances\n",
    "        file_path = os.path.join(PROJECT_PATH, 'outputs/feature_importance/ZTF_{}'.format(ztf_date), file_name + '.json')\n",
    "        with open(file_path) as file:\n",
    "            feature_importance_dict[filter][data_label] = json.load(file)\n",
    "        print('Loaded feature importances: {}'.format(file_path))\n",
    "\n",
    "        # Check if Astromer present and add as well\n",
    "        file_name = 'outputs/preds/ZTF_{}/ZTF_{}__band_{}__xmatch_{}__astromer_FC-1024-512-256'.format(ztf_date, ztf_date, filter, data_label)\n",
    "        file_name += '__test.csv'\n",
    "        file_path = os.path.join(PROJECT_PATH, file_name)\n",
    "        if os.path.exists(file_path):\n",
    "            df_preds = pd.read_csv(file_path)\n",
    "            prediction_label = 'y_pred Astrm'\n",
    "            results_dict[filter][data_label][prediction_label] = df_preds['y_pred']\n",
    "            print('Loaded Astromer: {}'.format(file_path))"
   ]
  },
  {
   "cell_type": "code",
   "execution_count": null,
   "id": "4825e726-b616-49cb-8c75-c2288946138d",
   "metadata": {},
   "outputs": [],
   "source": []
  },
  {
   "cell_type": "code",
   "execution_count": 9,
   "id": "3e2ea724-f1a3-4bb9-8f5b-e0e15ebb1542",
   "metadata": {
    "tags": []
   },
   "outputs": [],
   "source": [
    "# Just a test"
   ]
  },
  {
   "cell_type": "code",
   "execution_count": 11,
   "id": "d56560f9-ce84-4566-8e14-b9c72743c62f",
   "metadata": {
    "tags": []
   },
   "outputs": [],
   "source": [
    "labels = [\n",
    "    ('ZTF_PS', [\n",
    "        'AstrmClf',\n",
    "        'PS',\n",
    "        'AstrmClf + PS',\n",
    "    ]),\n",
    "]"
   ]
  },
  {
   "cell_type": "code",
   "execution_count": 18,
   "id": "7cb9663e-72ec-4f16-85a9-2d8d0a7d5616",
   "metadata": {
    "tags": []
   },
   "outputs": [],
   "source": [
    "results_dict['g']['ZTF_PS']['y_true'] = results_dict['g']['ZTF_PS']['CLASS']"
   ]
  },
  {
   "cell_type": "code",
   "execution_count": 19,
   "id": "65cacb47-6fa8-4dac-97a7-a26d543eb3a4",
   "metadata": {
    "scrolled": true,
    "tags": []
   },
   "outputs": [
    {
     "data": {
      "text/html": [
       "<div>\n",
       "<style scoped>\n",
       "    .dataframe tbody tr th:only-of-type {\n",
       "        vertical-align: middle;\n",
       "    }\n",
       "\n",
       "    .dataframe tbody tr th {\n",
       "        vertical-align: top;\n",
       "    }\n",
       "\n",
       "    .dataframe thead th {\n",
       "        text-align: right;\n",
       "    }\n",
       "</style>\n",
       "<table border=\"1\" class=\"dataframe\">\n",
       "  <thead>\n",
       "    <tr style=\"text-align: right;\">\n",
       "      <th></th>\n",
       "      <th>data</th>\n",
       "      <th>features</th>\n",
       "      <th>QSO support (%) g-band</th>\n",
       "      <th>QSO f1 g-band</th>\n",
       "      <th>QSO f1 global g-band</th>\n",
       "      <th>accuracy g-band</th>\n",
       "    </tr>\n",
       "  </thead>\n",
       "  <tbody>\n",
       "    <tr>\n",
       "      <th>0</th>\n",
       "      <td>ZTF_PS</td>\n",
       "      <td>AstrmClf</td>\n",
       "      <td>1.00</td>\n",
       "      <td>0.88</td>\n",
       "      <td>0.88</td>\n",
       "      <td>0.88</td>\n",
       "    </tr>\n",
       "    <tr>\n",
       "      <th>1</th>\n",
       "      <td>ZTF_PS</td>\n",
       "      <td>PS</td>\n",
       "      <td>1.00</td>\n",
       "      <td>0.84</td>\n",
       "      <td>0.84</td>\n",
       "      <td>0.89</td>\n",
       "    </tr>\n",
       "    <tr>\n",
       "      <th>2</th>\n",
       "      <td>ZTF_PS</td>\n",
       "      <td>AstrmClf + PS</td>\n",
       "      <td>1.00</td>\n",
       "      <td>0.95</td>\n",
       "      <td>0.95</td>\n",
       "      <td>0.96</td>\n",
       "    </tr>\n",
       "  </tbody>\n",
       "</table>\n",
       "</div>"
      ],
      "text/plain": [
       "     data       features  QSO support (%) g-band  QSO f1 g-band  \\\n",
       "0  ZTF_PS       AstrmClf                    1.00           0.88   \n",
       "1  ZTF_PS             PS                    1.00           0.84   \n",
       "2  ZTF_PS  AstrmClf + PS                    1.00           0.95   \n",
       "\n",
       "   QSO f1 global g-band  accuracy g-band  \n",
       "0                  0.88             0.88  \n",
       "1                  0.84             0.89  \n",
       "2                  0.95             0.96  "
      ]
     },
     "metadata": {},
     "output_type": "display_data"
    },
    {
     "name": "stdout",
     "output_type": "stream",
     "text": [
      "\\begin{tabular}{llrrrr}\n",
      "\\toprule\n",
      "  data &      features &  QSO support (%) g-band &  QSO f1 g-band &  QSO f1 global g-band &  accuracy g-band \\\\\n",
      "\\midrule\n",
      "ZTF_PS &      AstrmClf &                    1.00 &           0.88 &                  0.88 &             0.88 \\\\\n",
      "ZTF_PS &            PS &                    1.00 &           0.84 &                  0.84 &             0.89 \\\\\n",
      "ZTF_PS & AstrmClf + PS &                    1.00 &           0.95 &                  0.95 &             0.96 \\\\\n",
      "\\bottomrule\n",
      "\\end{tabular}\n",
      "\n"
     ]
    },
    {
     "name": "stderr",
     "output_type": "stream",
     "text": [
      "/home/sjnakoneczny/workspace/ztf-agn/notebooks/../report.py:28: FutureWarning: In future versions `DataFrame.to_latex` is expected to utilise the base implementation of `Styler.to_latex` for formatting and rendering. The arguments signature may therefore change. It is recommended instead to use `DataFrame.style.to_latex` which also contains additional functionality.\n",
      "  print(df.to_latex(escape=False, na_rep='', float_format='%.2f', index=False))\n"
     ]
    }
   ],
   "source": [
    "print_summary_table(results_dict, labels=labels, filters=['g'], concise=True)"
   ]
  },
  {
   "cell_type": "code",
   "execution_count": null,
   "id": "d2973e15-f86c-432c-9592-02fca0b9e0b9",
   "metadata": {},
   "outputs": [],
   "source": []
  },
  {
   "cell_type": "markdown",
   "id": "0d3ba5ad-2d8f-475f-b62a-4ca6d4c69cdf",
   "metadata": {},
   "source": [
    "# Results"
   ]
  },
  {
   "cell_type": "markdown",
   "id": "4a498aa2-cdf5-4c69-9c1e-a555c01b73ec",
   "metadata": {},
   "source": [
    "## Comparison plots"
   ]
  },
  {
   "cell_type": "code",
   "execution_count": null,
   "id": "a8843382-d230-4c30-892e-7e4701f0688a",
   "metadata": {
    "tags": []
   },
   "outputs": [],
   "source": [
    "args = [\n",
    "    'mag_median', 'redshift',\n",
    "    'n_obs', 'n_obs_200',\n",
    "    'timespan', 'timespan_200',\n",
    "    'cadence_mean', 'cadence_mean_200',\n",
    "    'cadence_median', 'cadence_median_200',\n",
    "    'cadence_std', 'cadence_std_200',\n",
    "]\n",
    "\n",
    "preds = [\n",
    "    'y_pred ZTF',\n",
    "    'y_pred Astrm',\n",
    "    'y_pred PS',\n",
    "]"
   ]
  },
  {
   "cell_type": "code",
   "execution_count": null,
   "id": "b2df4043-7083-41e9-989b-a2034bde29ad",
   "metadata": {
    "scrolled": true,
    "tags": []
   },
   "outputs": [],
   "source": [
    "for x in args:\n",
    "    plot_results_as_function(results_dict['g']['ZTF_PS'], x, labels=preds)"
   ]
  },
  {
   "cell_type": "code",
   "execution_count": null,
   "id": "67c9d232-a7d4-42b9-95df-438e85ba5576",
   "metadata": {
    "scrolled": true,
    "tags": []
   },
   "outputs": [],
   "source": [
    "for x in args:\n",
    "    plot_results_as_function(results_dict['r']['ZTF_PS'], x, labels=preds)"
   ]
  },
  {
   "cell_type": "code",
   "execution_count": null,
   "id": "5e301f5e-b0a5-459f-8acf-1b8ceef52601",
   "metadata": {
    "tags": []
   },
   "outputs": [],
   "source": [
    "preds = [\n",
    "    'y_pred ZTF',\n",
    "    'y_pred Astrm',\n",
    "    'y_pred PS',\n",
    "    'y_pred WISE',\n",
    "    'y_pred GAIA',\n",
    "]"
   ]
  },
  {
   "cell_type": "code",
   "execution_count": null,
   "id": "e09b3b12-df0e-47cd-95fd-ab2be2ae57b2",
   "metadata": {
    "scrolled": true,
    "tags": []
   },
   "outputs": [],
   "source": [
    "for x in args:\n",
    "    plot_results_as_function(results_dict['g']['ZTF_PS_WISE_GAIA'], x, labels=preds)"
   ]
  },
  {
   "cell_type": "code",
   "execution_count": null,
   "id": "d6a9a3f7-75cd-47a3-948e-9cd19b6c3d9b",
   "metadata": {
    "scrolled": true,
    "tags": []
   },
   "outputs": [],
   "source": [
    "for x in args:\n",
    "    plot_results_as_function(results_dict['r']['ZTF_PS_WISE_GAIA'], x, labels=preds)"
   ]
  },
  {
   "cell_type": "markdown",
   "id": "819974d4-08e5-42c7-a802-a82bb77773c4",
   "metadata": {},
   "source": [
    "## Tables"
   ]
  },
  {
   "cell_type": "code",
   "execution_count": null,
   "id": "4c6fd95c-ab6d-487a-a77b-02ce9d2959ff",
   "metadata": {
    "tags": []
   },
   "outputs": [],
   "source": [
    "# Add the master ensemble results\n",
    "for filter in filters:\n",
    "    features_val = ztf_x_sdss_features[filter].loc[ztf_x_sdss_features[filter]['is_test'] == True].reset_index(drop=True)\n",
    "    features_val = features_val.dropna(subset=FEATURES_DICT['ZTF']).reset_index(drop=True)\n",
    "    \n",
    "    for feature_hierarchy in feature_hierarchies:\n",
    "        # Start with Astromer predictions\n",
    "        preds = results_dict[filter]['ZTF']['y_pred Astrm'].to_numpy().copy()\n",
    "        \n",
    "        # Add PS where available\n",
    "        features_list = np.concatenate([FEATURES_DICT[label] for label in ['ZTF', 'PS']])\n",
    "        indices = features_val.dropna(subset=features_list).index\n",
    "        preds[indices] = results_dict[filter]['ZTF_PS']['y_pred AstrmClf + PS'].to_numpy().copy()\n",
    "        results_dict[filter]['ZTF']['y_pred Astrm + PS'] = preds.copy()\n",
    "\n",
    "        # Get indices for WISE and GAIA\n",
    "        indices = {}\n",
    "        for to_process in [['WISE'], ['GAIA'], ['WISE', 'GAIA']]:\n",
    "            features_list = np.concatenate([FEATURES_DICT[label] for label in ['ZTF', 'PS'] + to_process])\n",
    "            indices[' + '.join(to_process)] = features_val.dropna(subset=features_list).index\n",
    "\n",
    "        # Add WISE and GAIA to ZTF + PS\n",
    "        for to_process in ['WISE', 'GAIA']:\n",
    "            preds_tmp = preds.copy()\n",
    "            preds_tmp[indices[to_process]] = results_dict[filter]['ZTF_PS_' + to_process]['y_pred AstrmClf + PS + ' + to_process].to_numpy().copy()\n",
    "            results_dict[filter]['ZTF']['y_pred Astrm + PS + ' + to_process] = preds_tmp.copy()\n",
    "            \n",
    "        # Add WISE + GAIA to ZTF + PS\n",
    "        for to_process in ['WISE', 'GAIA']:\n",
    "            preds[indices[to_process]] = results_dict[filter]['ZTF_PS_' + to_process]['y_pred AstrmClf + PS + ' + to_process].to_numpy().copy()\n",
    "        preds[indices['WISE + GAIA']] = results_dict[filter]['ZTF_PS_WISE_GAIA']['y_pred AstrmClf + PS + WISE + GAIA'].to_numpy().copy()\n",
    "        results_dict[filter]['ZTF']['y_pred Astrm + PS + WISE + GAIA'] = preds.copy()"
   ]
  },
  {
   "cell_type": "code",
   "execution_count": null,
   "id": "d11bf6a2-fc62-4db9-b6d6-c6e35b0a6ac3",
   "metadata": {
    "tags": []
   },
   "outputs": [],
   "source": [
    "labels = [\n",
    "    ('ZTF', [\n",
    "        'Astrm',\n",
    "        'AstrmClf',\n",
    "        'ZTF',\n",
    "        'AstrmClf + ZTF',\n",
    "        'Astrm + PS',\n",
    "        'Astrm + PS + WISE',\n",
    "        'Astrm + PS + GAIA',\n",
    "        'Astrm + PS + WISE + GAIA',\n",
    "    ]),\n",
    "    ('ZTF_PS', [\n",
    "        'AstrmClf',\n",
    "        'PS',\n",
    "        'AstrmClf + PS',\n",
    "    ]),\n",
    "    ('ZTF_WISE', [\n",
    "        'AstrmClf',\n",
    "        'WISE',\n",
    "        'AstrmClf + WISE',\n",
    "    ]),\n",
    "    ('ZTF_GAIA', [\n",
    "        'AstrmClf',\n",
    "        'GAIA',\n",
    "        'AstrmClf + GAIA'\n",
    "    ]),\n",
    "]"
   ]
  },
  {
   "cell_type": "code",
   "execution_count": null,
   "id": "b8f6e740-0916-4ee6-ab9d-20b064997f16",
   "metadata": {
    "scrolled": true,
    "tags": []
   },
   "outputs": [],
   "source": [
    "# For publication\n",
    "print_summary_table(results_dict, labels=labels, filters=['g', 'r'], concise=True)"
   ]
  },
  {
   "cell_type": "code",
   "execution_count": null,
   "id": "49e6dbea-e409-4f5a-9ed5-cf4e019ea6df",
   "metadata": {
    "scrolled": true,
    "tags": []
   },
   "outputs": [],
   "source": [
    "# Details for g band\n",
    "print_summary_table(results_dict, labels=labels, filters=['g'], concise=False)"
   ]
  },
  {
   "cell_type": "code",
   "execution_count": null,
   "id": "e4aa7deb-fc44-4f89-b217-985749614e72",
   "metadata": {
    "scrolled": true,
    "tags": []
   },
   "outputs": [],
   "source": [
    "# Details for r band\n",
    "print_summary_table(results_dict, labels=labels, filters=['r'], concise=False)"
   ]
  },
  {
   "cell_type": "markdown",
   "id": "0c318475-8d41-4432-9f58-c094cb952cbd",
   "metadata": {},
   "source": [
    "## ZTF"
   ]
  },
  {
   "cell_type": "code",
   "execution_count": null,
   "id": "d451f8c5-39a6-4ebe-a658-98f81ab28a84",
   "metadata": {
    "scrolled": true,
    "tags": []
   },
   "outputs": [],
   "source": [
    "data_label = 'ZTF'\n",
    "filter = 'g'\n",
    "make_reports(results_dict, feature_importance_dict, filter=filter, data_label=data_label)"
   ]
  },
  {
   "cell_type": "code",
   "execution_count": null,
   "id": "940d5227-7e47-4f59-a7d5-1b9d96291c84",
   "metadata": {
    "scrolled": true,
    "tags": []
   },
   "outputs": [],
   "source": [
    "data_label = 'ZTF'\n",
    "filter = 'r'\n",
    "make_reports(results_dict, feature_importance_dict, filter=filter, data_label=data_label)"
   ]
  },
  {
   "cell_type": "markdown",
   "id": "45b0a06a-7e48-49b3-86c6-8bc2e3cfc953",
   "metadata": {},
   "source": [
    "## ZTF x PS"
   ]
  },
  {
   "cell_type": "code",
   "execution_count": null,
   "id": "44752eb4-d0f2-48f7-86d4-d55b6ee172f6",
   "metadata": {
    "scrolled": true,
    "tags": []
   },
   "outputs": [],
   "source": [
    "data_label = 'ZTF_PS'\n",
    "filter = 'g'\n",
    "make_reports(results_dict, feature_importance_dict, filter=filter, data_label=data_label)"
   ]
  },
  {
   "cell_type": "code",
   "execution_count": null,
   "id": "9936589e-03cb-4a90-b94e-7c27f8069d5e",
   "metadata": {
    "scrolled": true,
    "tags": []
   },
   "outputs": [],
   "source": [
    "data_label = 'ZTF_PS'\n",
    "filter = 'r'\n",
    "make_reports(results_dict, feature_importance_dict, filter=filter, data_label=data_label)"
   ]
  },
  {
   "cell_type": "markdown",
   "id": "100f7364-dc9e-4823-af22-ab172654317f",
   "metadata": {},
   "source": [
    "## ZTF x PS x WISE x GAIA"
   ]
  },
  {
   "cell_type": "code",
   "execution_count": null,
   "id": "ebbeddd4-5662-44dd-8800-246f576ae2fd",
   "metadata": {
    "scrolled": true,
    "tags": []
   },
   "outputs": [],
   "source": [
    "data_label = 'ZTF_PS_WISE_GAIA'\n",
    "filter = 'g'\n",
    "make_reports(results_dict, feature_importance_dict, filter=filter, data_label=data_label,\n",
    "             feature_labels=['ZTF + AstrmClf + PS + WISE + GAIA'])"
   ]
  },
  {
   "cell_type": "markdown",
   "id": "b17f481d-42a4-410c-b751-e17076cbfed1",
   "metadata": {},
   "source": [
    "# DR 5 vs DR 20 models"
   ]
  },
  {
   "cell_type": "code",
   "execution_count": 4,
   "id": "a5b33d87-79f1-4c6f-b185-2f55700ab9ee",
   "metadata": {
    "tags": []
   },
   "outputs": [],
   "source": [
    "drs = ['DR 5', 'DR 20']\n",
    "filter = 'g'"
   ]
  },
  {
   "cell_type": "markdown",
   "id": "d10ab31d-b359-4a32-b1f7-2d2e5500d150",
   "metadata": {},
   "source": [
    "## Make validation batches"
   ]
  },
  {
   "cell_type": "code",
   "execution_count": 5,
   "id": "6bdec75a-fa83-42b1-a0e5-c19fc23ffb0d",
   "metadata": {
    "tags": []
   },
   "outputs": [],
   "source": [
    "# Get the validation data\n",
    "X, y = {}, {}"
   ]
  },
  {
   "cell_type": "code",
   "execution_count": 6,
   "id": "0054f99b-14a9-4214-a37e-acbe7571d8cb",
   "metadata": {
    "tags": []
   },
   "outputs": [
    {
     "data": {
      "application/vnd.jupyter.widget-view+json": {
       "model_id": "6fdc17a623c04524a369437e09d21cb6",
       "version_major": 2,
       "version_minor": 0
      },
      "text/plain": [
       "  0%|          | 0/300593 [00:00<?, ?it/s]"
      ]
     },
     "metadata": {},
     "output_type": "display_data"
    },
    {
     "data": {
      "application/vnd.jupyter.widget-view+json": {
       "model_id": "c3ee8f866d594975ae77af88828d25d6",
       "version_major": 2,
       "version_minor": 0
      },
      "text/plain": [
       "  0%|          | 0/490038 [00:00<?, ?it/s]"
      ]
     },
     "metadata": {},
     "output_type": "display_data"
    }
   ],
   "source": [
    "# Standard validation data\n",
    "for dr in drs:\n",
    "    ztf_x_sdss, sdss_x_ztf = get_train_data(ztf_date=ZTF_DATES[dr], filter='g', return_features=False)\n",
    "    _, X[dr], _, y[dr] = get_train_matrices(ztf_x_sdss, sdss_x_ztf)"
   ]
  },
  {
   "cell_type": "code",
   "execution_count": null,
   "id": "487f7a43-d7e7-40d1-94d2-22107f89048b",
   "metadata": {
    "tags": []
   },
   "outputs": [],
   "source": [
    "# The DR 20 data but limited to the last date of DR 5\n",
    "dr = 'DR 20'\n",
    "last_date = ZTF_LAST_DATES['DR 5']\n",
    "label = 'DR 20 - lim DR 5'\n",
    "\n",
    "ztf_x_sdss, sdss_x_ztf = get_train_data(ztf_date=ZTF_DATES[dr], filter='g', return_features=False)\n",
    "\n",
    "# Linmit the dates\n",
    "ztf_x_sdss = limit_date(ztf_x_sdss, last_date)\n",
    "\n",
    "# Get at least 21 observations\n",
    "n_obs = [len(lc_dict['mjd']) for lc_dict in ztf_x_sdss]\n",
    "idx = np.array(n_obs) > 20\n",
    "ztf_x_sdss = np.array(ztf_x_sdss)[np.where(idx)]\n",
    "sdss_x_ztf = sdss_x_ztf.loc[idx].reset_index(drop=True)\n",
    "\n",
    "_, X[label], _, y[label] = get_train_matrices(ztf_x_sdss, sdss_x_ztf)"
   ]
  },
  {
   "cell_type": "code",
   "execution_count": 27,
   "id": "3e0e100c-d31b-4bad-95a0-b7b053232ef8",
   "metadata": {
    "tags": []
   },
   "outputs": [
    {
     "data": {
      "application/vnd.jupyter.widget-view+json": {
       "model_id": "c6bd2607ddf24b7fbc049e002f960f2b",
       "version_major": 2,
       "version_minor": 0
      },
      "text/plain": [
       "  0%|          | 0/300581 [00:00<?, ?it/s]"
      ]
     },
     "metadata": {},
     "output_type": "display_data"
    }
   ],
   "source": [
    "# The DR 5 data with features\n",
    "label = 'DR 5 - features'\n",
    "for dr in ['DR 5']:\n",
    "    ztf_x_sdss, sdss_x_ztf, _ = get_train_data(ztf_date=ZTF_DATES[dr], filter='g',\n",
    "                                               data_subsets=['ZTF'], return_features=True)\n",
    "    _, X[label], _, y[label] = get_train_matrices(ztf_x_sdss, sdss_x_ztf)"
   ]
  },
  {
   "cell_type": "code",
   "execution_count": 32,
   "id": "166e2014-0756-4bed-9452-427a5c5a4bfa",
   "metadata": {
    "tags": []
   },
   "outputs": [
    {
     "name": "stdout",
     "output_type": "stream",
     "text": [
      "DR 5 99196\n",
      "DR 20 161713\n",
      "DR 20 - lim DR 5 136343\n",
      "DR 5 - features 99191\n"
     ]
    }
   ],
   "source": [
    "# Data sizes\n",
    "for label in X:\n",
    "    print(label, len(X[label]))"
   ]
  },
  {
   "cell_type": "code",
   "execution_count": 6,
   "id": "d2d58bc8-5860-4c56-86b0-ca0cda1169d3",
   "metadata": {
    "tags": []
   },
   "outputs": [
    {
     "name": "stdout",
     "output_type": "stream",
     "text": [
      "[INFO] Loading Numpy\n",
      "[INFO] no masking\n",
      "[INFO] Loading Numpy\n"
     ]
    }
   ],
   "source": [
    "# Make batches\n",
    "batches = {}\n",
    "for label in X:\n",
    "    batches[label] = make_pretraining(\n",
    "        X[label], labels=y[label], n_classes=3, batch_size=64, shuffle=False,\n",
    "        sampling=True, max_obs=200, msk_frac=0., rnd_frac=0., same_frac=0., repeat=1,\n",
    "    )"
   ]
  },
  {
   "cell_type": "markdown",
   "id": "21b5c2f7-44fd-48fc-add3-d907a8734a71",
   "metadata": {},
   "source": [
    "## Run tests"
   ]
  },
  {
   "cell_type": "code",
   "execution_count": 7,
   "id": "83ac4333-88f3-4153-9866-d1e2991df35e",
   "metadata": {
    "tags": []
   },
   "outputs": [
    {
     "name": "stdout",
     "output_type": "stream",
     "text": [
      "[INFO] Weights already downloaded\n",
      "[INFO] Weights already downloaded\n"
     ]
    }
   ],
   "source": [
    "# Get the models\n",
    "models = {}\n",
    "for dr in drs:\n",
    "    date = ZTF_DATES[dr]\n",
    "    \n",
    "    astromer = SingleBandEncoder()\n",
    "    astromer = astromer.from_pretraining('ztfg')\n",
    "    astromer_encoder = astromer.model.get_layer('encoder')\n",
    "    classifier = build_model(astromer_encoder, n_classes=3, maxlen=astromer.maxlen, train_astromer=False)\n",
    "    path_astromer = 'outputs/models/ZTF_{}/ZTF_{}__band_{}__xmatch_ZTF__astromer_FC-1024-512-256'.format(date, date, filter)\n",
    "    classifier.load_weights(os.path.join(PROJECT_PATH, path_astromer))\n",
    "\n",
    "    models[dr] = classifier"
   ]
  },
  {
   "cell_type": "code",
   "execution_count": null,
   "id": "babec1a1-c8ec-48ef-85a2-259b9c6c9379",
   "metadata": {},
   "outputs": [],
   "source": [
    "# Make preds\n",
    "preds = {}"
   ]
  },
  {
   "cell_type": "code",
   "execution_count": 8,
   "id": "a5d817e3-5f1d-4d11-a8ff-2dad12fbca1e",
   "metadata": {
    "tags": []
   },
   "outputs": [
    {
     "name": "stdout",
     "output_type": "stream",
     "text": [
      "1550/1550 [==============================] - 100s 63ms/step\n",
      "1550/1550 [==============================] - 95s 61ms/step\n",
      "2527/2527 [==============================] - 157s 62ms/step\n",
      "2527/2527 [==============================] - 155s 61ms/step\n"
     ]
    }
   ],
   "source": [
    "# First turn\n",
    "for data_label in batches:\n",
    "    preds[data_label] = {}\n",
    "    for model_dr in drs:\n",
    "        preds[data_label][model_dr] = models[model_dr].predict(batches[data_label])"
   ]
  },
  {
   "cell_type": "code",
   "execution_count": 30,
   "id": "bd073cee-bd0f-4044-8689-363d515480d0",
   "metadata": {
    "tags": []
   },
   "outputs": [
    {
     "name": "stdout",
     "output_type": "stream",
     "text": [
      "2131/2131 [==============================] - 132s 62ms/step\n",
      "2131/2131 [==============================] - 130s 61ms/step\n",
      "1550/1550 [==============================] - 96s 62ms/step\n",
      "1550/1550 [==============================] - 95s 61ms/step\n"
     ]
    }
   ],
   "source": [
    "# Second turn\n",
    "for data_label in ['DR 20 - lim DR 5', 'DR 5 - features']:\n",
    "    preds[data_label] = {}\n",
    "    for model_dr in drs:\n",
    "        preds[data_label][model_dr] = models[model_dr].predict(batches[data_label])"
   ]
  },
  {
   "cell_type": "code",
   "execution_count": 33,
   "id": "8817f066-7b95-42fb-89d8-d1fd3bdcff73",
   "metadata": {
    "tags": []
   },
   "outputs": [
    {
     "name": "stdout",
     "output_type": "stream",
     "text": [
      "Data DR 5, model DR 5, acc. 0.92, F1 [0.94 0.89 0.9 ]\n",
      "Data DR 5, model DR 20, acc. 0.85, F1 [0.88 0.82 0.8 ]\n",
      "Data DR 20, model DR 5, acc. 0.65, F1 [0.63 0.71 0.64]\n",
      "Data DR 20, model DR 20, acc. 0.85, F1 [0.87 0.83 0.84]\n",
      "Data DR 20 - lim DR 5, model DR 5, acc. 0.82, F1 [0.84 0.76 0.82]\n",
      "Data DR 20 - lim DR 5, model DR 20, acc. 0.78, F1 [0.8  0.73 0.78]\n",
      "Data DR 5 - features, model DR 5, acc. 0.92, F1 [0.94 0.89 0.9 ]\n",
      "Data DR 5 - features, model DR 20, acc. 0.85, F1 [0.88 0.82 0.8 ]\n"
     ]
    }
   ],
   "source": [
    "# Test the models\n",
    "for data_label in preds:\n",
    "    for model_dr in drs:\n",
    "        # Make preds\n",
    "        y_pred = preds[data_label][model_dr]\n",
    "        y_class = np.argmax(y_pred, 1)\n",
    "\n",
    "        # Print results\n",
    "        acc = np.round(accuracy_score(y[data_label], y_class), 2)\n",
    "        f1 = np.round(f1_score(y[data_label], y_class, average=None), 2)\n",
    "        print('Data {}, model {}, acc. {}, F1 {}'.format(data_label, model_dr, acc, f1))"
   ]
  },
  {
   "cell_type": "code",
   "execution_count": null,
   "id": "bb92ced3-0bfc-4387-90f0-4ea9e2e35f19",
   "metadata": {},
   "outputs": [],
   "source": []
  }
 ],
 "metadata": {
  "kernelspec": {
   "display_name": "Python 3 (ipykernel)",
   "language": "python",
   "name": "python3"
  },
  "language_info": {
   "codemirror_mode": {
    "name": "ipython",
    "version": 3
   },
   "file_extension": ".py",
   "mimetype": "text/x-python",
   "name": "python",
   "nbconvert_exporter": "python",
   "pygments_lexer": "ipython3",
   "version": "3.9.16"
  }
 },
 "nbformat": 4,
 "nbformat_minor": 5
}
